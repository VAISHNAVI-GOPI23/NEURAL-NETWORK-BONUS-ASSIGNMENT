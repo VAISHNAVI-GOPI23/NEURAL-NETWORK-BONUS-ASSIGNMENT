{
  "nbformat": 4,
  "nbformat_minor": 0,
  "metadata": {
    "colab": {
      "provenance": []
    },
    "kernelspec": {
      "name": "python3",
      "display_name": "Python 3"
    },
    "language_info": {
      "name": "python"
    }
  },
  "cells": [
    {
      "cell_type": "code",
      "source": [
        "# Q1: Question Answering using Transformers\n",
        "# Student: Vaishnavi Gopi\n",
        "\n",
        "# Install dependencies\n",
        "!pip install transformers torch --quiet\n",
        "\n",
        "from transformers import pipeline\n",
        "\n",
        "# 1. Basic Pipeline Setup\n",
        "qa_pipeline = pipeline(\"question-answering\")\n",
        "\n",
        "context1 = \"Charles Babbage is known as the father of the computer. He invented the Analytical Engine.\"\n",
        "question1 = \"Who is known as the father of the computer?\"\n",
        "\n",
        "result1 = qa_pipeline(question=question1, context=context1)\n",
        "print(\"Default Model Output:\")\n",
        "print(\"Answer:\", result1['answer'])\n",
        "print(\"Score:\", result1['score'])\n",
        "print(\"Start:\", result1['start'])\n",
        "print(\"End:\", result1['end'])\n",
        "# 2. Use a Custom Pretrained Model\n",
        "qa_pipeline_custom = pipeline(\"question-answering\", model=\"deepset/roberta-base-squad2\")\n",
        "\n",
        "result2 = qa_pipeline_custom(question=question1, context=context1)\n",
        "print(\"\\nCustom Model Output:\")\n",
        "print(\"Answer:\", result2['answer'])\n",
        "print(\"Score:\", result2['score'])\n",
        "print(\"Start:\", result2['start'])\n",
        "print(\"End:\", result2['end'])\n",
        "# 3. Own Example with Two Questions\n",
        "context2 = \"Python is a powerful programming language. It is widely used in AI and data science.\"\n",
        "question2a = \"What is Python?\"\n",
        "question2b = \"Where is Python commonly used?\"\n",
        "\n",
        "output1 = qa_pipeline_custom(question=question2a, context=context2)\n",
        "output2 = qa_pipeline_custom(question=question2b, context=context2)\n",
        "\n",
        "print(\"\\nCustom Context Q1:\")\n",
        "print(\"Answer:\", output1['answer'])\n",
        "print(\"Score:\", output1['score'])\n",
        "\n",
        "print(\"\\nCustom Context Q2:\")\n",
        "print(\"Answer:\", output2['answer'])\n",
        "print(\"Score:\", output2['score'])\n",
        "\n"
      ],
      "metadata": {
        "colab": {
          "base_uri": "https://localhost:8080/"
        },
        "id": "mY5_MEPOvzFB",
        "outputId": "a6138dc7-6c45-4cb2-89f6-e372fcf68ca8"
      },
      "execution_count": 3,
      "outputs": [
        {
          "output_type": "stream",
          "name": "stderr",
          "text": [
            "No model was supplied, defaulted to distilbert/distilbert-base-cased-distilled-squad and revision 564e9b5 (https://huggingface.co/distilbert/distilbert-base-cased-distilled-squad).\n",
            "Using a pipeline without specifying a model name and revision in production is not recommended.\n",
            "Device set to use cpu\n"
          ]
        },
        {
          "output_type": "stream",
          "name": "stdout",
          "text": [
            "Default Model Output:\n",
            "Answer: Charles Babbage\n",
            "Score: 0.9975817799568176\n",
            "Start: 0\n",
            "End: 15\n"
          ]
        },
        {
          "output_type": "stream",
          "name": "stderr",
          "text": [
            "Device set to use cpu\n"
          ]
        },
        {
          "output_type": "stream",
          "name": "stdout",
          "text": [
            "\n",
            "Custom Model Output:\n",
            "Answer: Charles Babbage\n",
            "Score: 0.9838653802871704\n",
            "Start: 0\n",
            "End: 15\n",
            "\n",
            "Custom Context Q1:\n",
            "Answer: a powerful programming language\n",
            "Score: 0.5949744582176208\n",
            "\n",
            "Custom Context Q2:\n",
            "Answer: AI and data science\n",
            "Score: 0.8074202537536621\n"
          ]
        }
      ]
    }
  ]
}