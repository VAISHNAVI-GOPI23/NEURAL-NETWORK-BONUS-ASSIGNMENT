{
 "cells": [
  {
   "cell_type": "markdown",
   "id": "6a21f5aa",
   "metadata": {},
   "source": [
    "# Bonus Assignment - Question 1: Question Answering using Transformers"
   ]
  },
  {
   "cell_type": "code",
   "execution_count": null,
   "id": "ca86d026",
   "metadata": {},
   "outputs": [],
   "source": [
    "!pip install transformers torch --quiet"
   ]
  },
  {
   "cell_type": "markdown",
   "id": "2a4ed0e4",
   "metadata": {},
   "source": [
    "## 1. Basic Pipeline Setup"
   ]
  },
  {
   "cell_type": "code",
   "execution_count": null,
   "id": "867f0ae6",
   "metadata": {},
   "outputs": [],
   "source": [
    "from transformers import pipeline\n",
    "\n",
    "qa_pipeline = pipeline(\"question-answering\")\n",
    "\n",
    "context1 = \"Charles Babbage is known as the father of the computer. He invented the Analytical Engine.\"\n",
    "question1 = \"Who is known as the father of the computer?\"\n",
    "\n",
    "result1 = qa_pipeline(question=question1, context=context1)\n",
    "print(\"Default Model Output:\", result1)"
   ]
  },
  {
   "cell_type": "markdown",
   "id": "34a0f5bf",
   "metadata": {},
   "source": [
    "## 2. Using Custom Pretrained Model: `deepset/roberta-base-squad2`"
   ]
  },
  {
   "cell_type": "code",
   "execution_count": null,
   "id": "08c16703",
   "metadata": {},
   "outputs": [],
   "source": [
    "qa_pipeline_custom = pipeline(\"question-answering\", model=\"deepset/roberta-base-squad2\")\n",
    "\n",
    "result2 = qa_pipeline_custom(question=question1, context=context1)\n",
    "print(\"Custom Model Output:\", result2)"
   ]
  },
  {
   "cell_type": "markdown",
   "id": "fc5113f5",
   "metadata": {},
   "source": [
    "## 3. Own Example with Two Questions"
   ]
  },
  {
   "cell_type": "code",
   "execution_count": null,
   "id": "010f0598",
   "metadata": {},
   "outputs": [],
   "source": [
    "context2 = \"Python is a powerful programming language. It is widely used in AI and data science.\"\n",
    "question2a = \"What is Python?\"\n",
    "question2b = \"Where is Python commonly used?\"\n",
    "\n",
    "print(\"Q1:\", qa_pipeline_custom(question=question2a, context=context2))\n",
    "print(\"Q2:\", qa_pipeline_custom(question=question2b, context=context2))"
   ]
  }
 ],
 "metadata": {},
 "nbformat": 4,
 "nbformat_minor": 5
}