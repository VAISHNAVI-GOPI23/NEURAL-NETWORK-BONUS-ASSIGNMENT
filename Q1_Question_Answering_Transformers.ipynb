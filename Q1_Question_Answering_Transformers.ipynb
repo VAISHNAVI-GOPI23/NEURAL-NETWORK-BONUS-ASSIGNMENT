{
 "cells": [
  {
   "cell_type": "markdown",
   "id": "efca7496",
   "metadata": {},
   "source": [
    "# Q1: Question Answering using Transformers\n",
    "\n",
    "This notebook demonstrates a simple question-answering system using Hugging Face's transformers."
   ]
  },
  {
   "cell_type": "code",
   "execution_count": null,
   "id": "bafb9e7b",
   "metadata": {},
   "outputs": [],
   "source": [
    "!pip install transformers torch --quiet\n",
    "from transformers import pipeline\n",
    "\n",
    "# Initialize pipeline\n",
    "qa_pipeline = pipeline('question-answering')\n",
    "\n",
    "# Basic context and question\n",
    "context = \"Charles Babbage is known as the father of the computer. He invented the Analytical Engine.\"\n",
    "question = \"Who is known as the father of the computer?\"\n",
    "\n",
    "# Run prediction\n",
    "output = qa_pipeline(question=question, context=context)\n",
    "print(\"Answer:\", output['answer'])\n",
    "print(\"Score:\", output['score'])\n",
    "print(\"Start Index:\", output['start'])\n",
    "print(\"End Index:\", output['end'])"
   ]
  },
  {
   "cell_type": "code",
   "execution_count": null,
   "id": "ade471eb",
   "metadata": {},
   "outputs": [],
   "source": [
    "# Use custom model: deepset/roberta-base-squad2\n",
    "qa_pipeline_custom = pipeline('question-answering', model='deepset/roberta-base-squad2')\n",
    "\n",
    "output_custom = qa_pipeline_custom(question=question, context=context)\n",
    "print(\"Answer:\", output_custom['answer'])\n",
    "print(\"Score:\", output_custom['score'])"
   ]
  },
  {
   "cell_type": "code",
   "execution_count": null,
   "id": "8f97026a",
   "metadata": {},
   "outputs": [],
   "source": [
    "# Custom context and questions\n",
    "context2 = \"Python is a powerful programming language. It is widely used in AI and data science.\"\n",
    "q1 = \"What is Python?\"\n",
    "q2 = \"Where is Python used?\"\n",
    "\n",
    "a1 = qa_pipeline_custom(question=q1, context=context2)\n",
    "a2 = qa_pipeline_custom(question=q2, context=context2)\n",
    "print(\"Q1 Answer:\", a1['answer'], \"| Score:\", a1['score'])\n",
    "print(\"Q2 Answer:\", a2['answer'], \"| Score:\", a2['score'])"
   ]
  }
 ],
 "metadata": {},
 "nbformat": 4,
 "nbformat_minor": 5
}