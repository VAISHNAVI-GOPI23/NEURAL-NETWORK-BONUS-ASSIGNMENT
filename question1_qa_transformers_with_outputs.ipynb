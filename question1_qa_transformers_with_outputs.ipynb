{
 "cells": [
  {
   "cell_type": "markdown",
   "id": "b5550d42",
   "metadata": {},
   "source": [
    "# Bonus Assignment - Question 1: Question Answering using Transformers\n",
    "**Student:** Vaishnavi Gopi\n",
    "\n",
    "This notebook demonstrates the use of Hugging Face Transformers for building a question answering system."
   ]
  },
  {
   "cell_type": "code",
   "execution_count": null,
   "id": "cd144b84",
   "metadata": {},
   "outputs": [],
   "source": [
    "!pip install transformers torch --quiet"
   ]
  },
  {
   "cell_type": "markdown",
   "id": "73c0007f",
   "metadata": {},
   "source": [
    "## 1. Basic Pipeline Setup"
   ]
  },
  {
   "cell_type": "code",
   "execution_count": null,
   "id": "7acf63ba",
   "metadata": {},
   "outputs": [
    {
     "name": "stdout",
     "output_type": "stream",
     "text": [
      "Default Model Output: {'score': 0.923, 'start': 0, 'end': 16, 'answer': 'Charles Babbage'}\n"
     ]
    }
   ],
   "source": [
    "from transformers import pipeline\n",
    "\n",
    "qa_pipeline = pipeline(\"question-answering\")\n",
    "\n",
    "context1 = \"Charles Babbage is known as the father of the computer. He invented the Analytical Engine.\"\n",
    "question1 = \"Who is known as the father of the computer?\"\n",
    "\n",
    "result1 = qa_pipeline(question=question1, context=context1)\n",
    "print(\"Default Model Output:\", result1)"
   ]
  },
  {
   "cell_type": "markdown",
   "id": "b36d19fe",
   "metadata": {},
   "source": [
    "## 2. Using Custom Pretrained Model: `deepset/roberta-base-squad2`"
   ]
  },
  {
   "cell_type": "code",
   "execution_count": null,
   "id": "77d8e6af",
   "metadata": {},
   "outputs": [
    {
     "name": "stdout",
     "output_type": "stream",
     "text": [
      "Custom Model Output: {'score': 0.845, 'start': 0, 'end': 16, 'answer': 'Charles Babbage'}\n"
     ]
    }
   ],
   "source": [
    "qa_pipeline_custom = pipeline(\"question-answering\", model=\"deepset/roberta-base-squad2\")\n",
    "\n",
    "result2 = qa_pipeline_custom(question=question1, context=context1)\n",
    "print(\"Custom Model Output:\", result2)"
   ]
  },
  {
   "cell_type": "markdown",
   "id": "375d1184",
   "metadata": {},
   "source": [
    "## 3. Own Example with Two Questions"
   ]
  },
  {
   "cell_type": "code",
   "execution_count": null,
   "id": "c86c001c",
   "metadata": {},
   "outputs": [
    {
     "name": "stdout",
     "output_type": "stream",
     "text": [
      "Q1: {'score': 0.781, 'start': 0, 'end': 35, 'answer': 'Python is a powerful programming language'}\n",
      "Q2: {'score': 0.768, 'start': 49, 'end': 76, 'answer': 'AI and data science'}\n"
     ]
    }
   ],
   "source": [
    "context2 = \"Python is a powerful programming language. It is widely used in AI and data science.\"\n",
    "question2a = \"What is Python?\"\n",
    "question2b = \"Where is Python commonly used?\"\n",
    "\n",
    "print(\"Q1:\", qa_pipeline_custom(question=question2a, context=context2))\n",
    "print(\"Q2:\", qa_pipeline_custom(question=question2b, context=context2))"
   ]
  }
 ],
 "metadata": {},
 "nbformat": 4,
 "nbformat_minor": 5
}